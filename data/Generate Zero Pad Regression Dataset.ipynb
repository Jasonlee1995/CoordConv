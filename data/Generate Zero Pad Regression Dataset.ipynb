{
 "cells": [
  {
   "cell_type": "code",
   "execution_count": 1,
   "id": "57ba4866",
   "metadata": {},
   "outputs": [],
   "source": [
    "import generate_data\n",
    "\n",
    "import csv\n",
    "import numpy as np\n",
    "import matplotlib.pyplot as plt"
   ]
  },
  {
   "cell_type": "code",
   "execution_count": null,
   "id": "6344c30d",
   "metadata": {},
   "outputs": [],
   "source": []
  },
  {
   "cell_type": "code",
   "execution_count": 2,
   "id": "030bef91",
   "metadata": {},
   "outputs": [],
   "source": [
    "path_dir = './data/'\n",
    "train_img_dir, test_img_dir = 'zero_train/', 'zero_test/'\n",
    "train_csv, test_csv = './zero_train.csv', './zero_test.csv'\n",
    "train_num, test_num = 3000, 1000\n",
    "\n",
    "canvas_size = 64\n",
    "pad = 0\n",
    "quadrant = 4"
   ]
  },
  {
   "cell_type": "code",
   "execution_count": 3,
   "id": "e420feab",
   "metadata": {},
   "outputs": [],
   "source": [
    "train_coords, test_coords, train_imgs, test_imgs = generate_data.train_test(quadrant, canvas_size, pad, train_num, test_num)\n",
    "\n",
    "for i, (img, coord) in enumerate(zip(train_imgs, train_coords)):\n",
    "    img_dir = train_img_dir + str(i).zfill(4) + '.npy'\n",
    "    np.save(img_dir, img)\n",
    "    \n",
    "    with open(train_csv, 'a', newline='') as f:\n",
    "        writer = csv.writer(f)\n",
    "        writer.writerow([path_dir+img_dir, *coord])\n",
    "\n",
    "for i, (img, coord) in enumerate(zip(test_imgs, test_coords)):\n",
    "    img_dir = test_img_dir + str(i).zfill(4) + '.npy'\n",
    "    np.save(img_dir, img)\n",
    "    \n",
    "    with open(test_csv, 'a', newline='') as f:\n",
    "        writer = csv.writer(f)\n",
    "        writer.writerow([path_dir+img_dir, *coord])"
   ]
  }
 ],
 "metadata": {
  "kernelspec": {
   "display_name": "Python 3 (ipykernel)",
   "language": "python",
   "name": "python3"
  },
  "language_info": {
   "codemirror_mode": {
    "name": "ipython",
    "version": 3
   },
   "file_extension": ".py",
   "mimetype": "text/x-python",
   "name": "python",
   "nbconvert_exporter": "python",
   "pygments_lexer": "ipython3",
   "version": "3.8.8"
  }
 },
 "nbformat": 4,
 "nbformat_minor": 5
}
