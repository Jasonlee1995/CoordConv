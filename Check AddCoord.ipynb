{
 "cells": [
  {
   "cell_type": "code",
   "execution_count": 1,
   "id": "1bc59975",
   "metadata": {},
   "outputs": [],
   "source": [
    "import model, torch"
   ]
  },
  {
   "cell_type": "code",
   "execution_count": 2,
   "id": "561fcb4d",
   "metadata": {},
   "outputs": [
    {
     "name": "stdout",
     "output_type": "stream",
     "text": [
      "tensor([[[-1.0000, -0.6667, -0.3333,  0.0000,  0.3333,  0.6667,  1.0000],\n",
      "         [-1.0000, -0.6667, -0.3333,  0.0000,  0.3333,  0.6667,  1.0000],\n",
      "         [-1.0000, -0.6667, -0.3333,  0.0000,  0.3333,  0.6667,  1.0000],\n",
      "         [-1.0000, -0.6667, -0.3333,  0.0000,  0.3333,  0.6667,  1.0000],\n",
      "         [-1.0000, -0.6667, -0.3333,  0.0000,  0.3333,  0.6667,  1.0000]],\n",
      "\n",
      "        [[-1.0000, -1.0000, -1.0000, -1.0000, -1.0000, -1.0000, -1.0000],\n",
      "         [-0.5000, -0.5000, -0.5000, -0.5000, -0.5000, -0.5000, -0.5000],\n",
      "         [ 0.0000,  0.0000,  0.0000,  0.0000,  0.0000,  0.0000,  0.0000],\n",
      "         [ 0.5000,  0.5000,  0.5000,  0.5000,  0.5000,  0.5000,  0.5000],\n",
      "         [ 1.0000,  1.0000,  1.0000,  1.0000,  1.0000,  1.0000,  1.0000]]])\n"
     ]
    }
   ],
   "source": [
    "coord = model.AddCoords()\n",
    "\n",
    "temp = torch.zeros(1, 1, 5, 7)\n",
    "temp = coord(temp)\n",
    "print(temp[0, 1:, :, :])"
   ]
  }
 ],
 "metadata": {
  "kernelspec": {
   "display_name": "Python 3 (ipykernel)",
   "language": "python",
   "name": "python3"
  },
  "language_info": {
   "codemirror_mode": {
    "name": "ipython",
    "version": 3
   },
   "file_extension": ".py",
   "mimetype": "text/x-python",
   "name": "python",
   "nbconvert_exporter": "python",
   "pygments_lexer": "ipython3",
   "version": "3.8.8"
  }
 },
 "nbformat": 4,
 "nbformat_minor": 5
}
